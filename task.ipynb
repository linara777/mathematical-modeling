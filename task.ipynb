{
  "nbformat": 4,
  "nbformat_minor": 0,
  "metadata": {
    "colab": {
      "provenance": [],
      "authorship_tag": "ABX9TyOKGAC20rPTtbm2SejERGno"
    },
    "kernelspec": {
      "name": "python3",
      "display_name": "Python 3"
    },
    "language_info": {
      "name": "python"
    }
  },
  "cells": [
    {
      "cell_type": "code",
      "execution_count": null,
      "metadata": {
        "id": "AY0bTzZfCwot"
      },
      "outputs": [],
      "source": [
        "import numpy as np\n",
        "import matplotlib.pyplot as plt"
      ]
    },
    {
      "cell_type": "code",
      "source": [
        "class Func:\n",
        "    def __init__(self, L, R, T, amountX, amountT):\n",
        "        self.L = L\n",
        "        self.R = R\n",
        "        self.T = T\n",
        "        self.amountX = amountX\n",
        "        self.amountT = amountT\n",
        "        self.h = (R - L) / amountX\n",
        "        self.t = T / amountT\n",
        "        self.C = self.t / self.h\n",
        "        self.X = list(np.linspace(L, R, amountX + 1))\n",
        "        self.TT = list(np.linspace(0, T, amountT + 1))\n",
        "        self.f = [[0] * (self.amountT+1) for i in range(self.amountX+1)]\n",
        "\n",
        "\n",
        "    def Finitial(self):\n",
        "      self.f = [[0] * (self.amountT+1) for i in range(self.amountX+1)]\n",
        "      for i in range(self.amountX+1):\n",
        "        if self.X[i] <= 0:\n",
        "          self.f[i][0] = 1\n",
        "      for i in range(self.amountT+1):\n",
        "        self.f[0][i] = 1\n",
        "\n",
        "\n",
        "    def final(self):\n",
        "      Y = []\n",
        "      XX = []\n",
        "      for i in range(int(self.X.index(0)-3), int(self.X.index(0)+33)):\n",
        "        Y.append(self.f[i][20])\n",
        "        XX.append(self.X[i]-0.01)\n",
        "      return Y, XX\n",
        "\n",
        "\n",
        "    def __call__(self):\n",
        "      raise NotImplementedError"
      ],
      "metadata": {
        "id": "zTIQBP_kDAQU"
      },
      "execution_count": null,
      "outputs": []
    },
    {
      "cell_type": "code",
      "source": [
        "class Func1(Func):\n",
        "    def __call__(self):\n",
        "      self.Finitial()\n",
        "      for j in range(self.amountT):\n",
        "        for i in range(1,self.amountX):\n",
        "          self.f[i][j+1] = self.f[i][j] - self.C*(self.f[i][j] - self.f[i-1][j])\n",
        "      y, x = self.final()\n",
        "      return y, x  "
      ],
      "metadata": {
        "id": "8uookXlZRcbQ"
      },
      "execution_count": null,
      "outputs": []
    },
    {
      "cell_type": "code",
      "source": [
        "class Func2(Func):\n",
        "    def __call__(self):\n",
        "      self.Finitial()\n",
        "      for j in range(self.amountT):\n",
        "        for i in range(1,self.amountX):\n",
        "          self.f[i][j+1] = self.f[i][j] - 0.5*self.C*(self.f[i+1][j] - self.f[i-1][j]) + 0.5*self.C**2*(self.f[i+1][j]-2*self.f[i][j] + self.f[i-1][j])\n",
        "      y, x = self.final()\n",
        "      return y, x  \n"
      ],
      "metadata": {
        "id": "sLDiihB0DATu"
      },
      "execution_count": null,
      "outputs": []
    },
    {
      "cell_type": "code",
      "source": [
        "class Func3(Func):\n",
        "    def __call__(self):\n",
        "      self.Finitial()\n",
        "      for j in range(self.amountT):\n",
        "        for i in range(1,self.amountX):\n",
        "          self.f[i][j+1] = self.f[i][j] - self.C * (self.f[i][j] - self.f[i-1][j]) - 0.25*self.C* (1 - self.C) * (self.f[i+1][j]-self.f[i][j] - self.f[i-1][j] + self.f[i-2][j])\n",
        "      y, x = self.final()\n",
        "      return y, x    "
      ],
      "metadata": {
        "id": "V22o8oWDQyyC"
      },
      "execution_count": null,
      "outputs": []
    },
    {
      "cell_type": "code",
      "source": [
        "class Func4(Func):\n",
        "    def __call__(self):\n",
        "      self.Finitial()\n",
        "      for j in range(self.amountT):\n",
        "        for i in range(1,self.amountX):\n",
        "          self.f[i][j+1] = self.f[i][j] - self.C * (self.f[i][j] - self.f[i-1][j]) - self.C* (2 - self.C) * (1 - self.C) * self.f[i+1][j] / 6 + self.C * (1 - self.C)**2 * self.f[i][j] / 2 + self.C**2 * (1 - self.C) * self.f[i-1][j] / 2 + self.C * (self.C**2 - 1) * self.f[i-2][j] / 6\n",
        "      y, x = self.final()\n",
        "      return y, x    "
      ],
      "metadata": {
        "id": "kDF-_rTlU0S2"
      },
      "execution_count": null,
      "outputs": []
    },
    {
      "cell_type": "code",
      "source": [
        "class Func5(Func):\n",
        "    def __call__(self):\n",
        "      self.Finitial()\n",
        "      for j in range(self.amountT):\n",
        "        for i in range(1,self.amountX):\n",
        "          if (self.f[i][j] - self.f[i-1][j])*(self.f[i][j] - self.f[i][j-1]) <= 0:\n",
        "            self.f[i][j+1] = -0.5*self.C*(1 - self.C)*self.f[i+1][j] + (1-self.C**2) * self.f[i][j] + 0.5* self.C* (1+self.C)* self.f[i-1][j]\n",
        "          else:\n",
        "            self.f[i][j+1] = (1-0.5*self.C*(3-self.C))*self.f[i][j] + self.C*(2-self.C)*self.f[i-1][j] - 0.5*self.C*(1-self.C)*self.f[i-2][j]\n",
        "      \n",
        "\n",
        "      y, x = self.final()\n",
        "      return y, x  "
      ],
      "metadata": {
        "id": "W4tjZIyro1Hb"
      },
      "execution_count": null,
      "outputs": []
    },
    {
      "cell_type": "code",
      "source": [
        "F1 = Func1(-0.5,0.5,0.1,1500,200)"
      ],
      "metadata": {
        "id": "X1QZtyDpDIdt"
      },
      "execution_count": null,
      "outputs": []
    },
    {
      "cell_type": "code",
      "source": [
        "Y1 = []\n",
        "XX1 = []\n",
        "Y1, XX1 = F1()"
      ],
      "metadata": {
        "id": "rocmJ1xjR1Mo"
      },
      "execution_count": null,
      "outputs": []
    },
    {
      "cell_type": "code",
      "source": [
        "F2 = Func2(-0.5,0.5,0.1,1500,200)"
      ],
      "metadata": {
        "id": "7X0ejDjrDIf8"
      },
      "execution_count": null,
      "outputs": []
    },
    {
      "cell_type": "code",
      "source": [
        "Y2 = []\n",
        "XX2 = []\n",
        "Y2, XX2 = F2()"
      ],
      "metadata": {
        "id": "ScbqnUguQjS4"
      },
      "execution_count": null,
      "outputs": []
    },
    {
      "cell_type": "code",
      "source": [
        "F3 = Func3(-0.5,0.5,0.1,1500,200)\n",
        "Y3 = []\n",
        "XX3 = []\n",
        "Y3, XX3 = F3()"
      ],
      "metadata": {
        "id": "qn2p4EbSUSXF"
      },
      "execution_count": null,
      "outputs": []
    },
    {
      "cell_type": "code",
      "source": [
        "F4 = Func4(-0.5,0.5,0.1,1500,200)\n",
        "Y4 = []\n",
        "XX4 = []\n",
        "Y4, XX4 = F4()"
      ],
      "metadata": {
        "id": "eBqzjmxjWK35"
      },
      "execution_count": null,
      "outputs": []
    },
    {
      "cell_type": "code",
      "source": [
        "F5 = Func5(-0.5,0.5,0.1,1500,200)\n",
        "Y5 = []\n",
        "XX5 = []\n",
        "Y5, XX5 = F5()"
      ],
      "metadata": {
        "id": "Z6vlqodOsjvr"
      },
      "execution_count": null,
      "outputs": []
    },
    {
      "cell_type": "code",
      "source": [
        "plt.figure(figsize=(8,5))\n",
        "plt.plot(XX1, Y1)\n",
        "plt.plot(XX2, Y2)\n",
        "plt.plot(XX3, Y3)\n",
        "plt.plot(XX4, Y4)\n",
        "plt.plot(XX5, Y5)\n",
        "plt.xlabel('x')\n",
        "plt.ylabel('f')\n",
        "plt.legend(['схема I', 'схема II', 'схема III', 'схема IV', 'схема V'])\n",
        "plt.xlim (-0.006, 0.006)\n",
        "plt.savefig('график.png')\n",
        "plt.show()\n"
      ],
      "metadata": {
        "colab": {
          "base_uri": "https://localhost:8080/",
          "height": 337
        },
        "id": "W6epaNVHQrPK",
        "outputId": "9a3198e1-8dff-47a8-d48d-c5b298d77405"
      },
      "execution_count": null,
      "outputs": [
        {
          "output_type": "display_data",
          "data": {
            "text/plain": [
              "<Figure size 576x360 with 1 Axes>"
            ],
            "image/png": "[encoded data removed]"
          },
          "metadata": {
            "needs_background": "light"
          }
        }
      ]
    },
    {
      "cell_type": "markdown",
      "source": [
        "h = 0.0007\n",
        " \n",
        "C = 0.75"
      ],
      "metadata": {
        "id": "lVIy1vb72H9k"
      }
    }
  ]
}